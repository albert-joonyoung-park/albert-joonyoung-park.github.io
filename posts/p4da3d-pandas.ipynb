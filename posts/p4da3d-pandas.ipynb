{
  "cells": [
    {
      "cell_type": "raw",
      "metadata": {},
      "source": [
        "---\n",
        "title: '[5] Pandas'\n",
        "subtitle: 'A series of posts, exploring data analysis using the book - Python for Data Analysis, 3E by Wes McKinney'\n",
        "date: '2023-10-11'\n",
        "categories:\n",
        "  - Python\n",
        "  - pandas\n",
        "description: 'Learning notes - Python for Data Analysis, 3E - Wes McKinney'\n",
        "image: data.jpg\n",
        "format:\n",
        "  html:\n",
        "    code-fold: false\n",
        "---"
      ],
      "id": "cbf78f89"
    },
    {
      "cell_type": "markdown",
      "metadata": {},
      "source": [
        "------------------------------------------------------------------------\n",
        "\n",
        "**pandas is ....**\n",
        "\n",
        "Two workhorse data structures: Series and DataFrame, solid foundation of wide variety of data tasks.\n",
        "\n",
        "Series - one-dimensional array-like object with a sequence of values and index: array + lables\n"
      ],
      "id": "ceb55aa0"
    },
    {
      "cell_type": "code",
      "metadata": {},
      "source": [
        "# Simple Series\n",
        "import numpy as np\n",
        "import pandas as pd\n",
        "\n",
        "obj = pd.Series([4, 7, -5, 3])\n",
        "print(obj)\n",
        "print(type(obj))\n",
        "print(obj.array)\n",
        "print(obj.index)\n",
        "\n",
        "# A Series with a custom index\n",
        "obj2 = pd.Series([4, 7, -5, 3], index=[\"d\", \"b\", \"a\", \"c\"])\n",
        "print(obj2)\n",
        "print(obj2.index)\n",
        "\n",
        "# Select, modify array elemtns using index\n",
        "obj2[\"a\"]\n",
        "obj2[\"d\"] = 6\n",
        "obj2[[\"c\", \"a\", \"d\"]]  # using a list of 'indices'-like\n",
        "\n",
        "# Preservation of index-value link\n",
        "print(obj2[obj2 > 0])\n",
        "print(obj2 * 2)\n",
        "print(np.exp(obj2))\n",
        "\n",
        "# Series and dictionary, the shared context: mapping of index value to data value\n",
        "print(\"b\" in obj2)\n",
        "print(\"B\" in obj2)\n",
        "\n",
        "# Convert Python dictionary to/from a Series\n",
        "data_dict = {\n",
        "    \"name\": \"John Smith\",\n",
        "    \"age\": 30,\n",
        "    \"city\": \"New York\",\n",
        "    \"email\": \"john.smith@email.com\",\n",
        "    \"is_student\": False\n",
        "}\n",
        "print(data_dict)\n",
        "s_data = pd.Series(data_dict)  # dictionary to Series\n",
        "print(s_data, type(s_data))\n",
        "d_data = s_data.to_dict()  # Series to dictionary\n",
        "print(d_data, type(d_data))\n",
        "\n",
        "# Preservation of index-value\n",
        "new_index = [\"gender\", \"name\", \"age\", \"city\", \"email\"]\n",
        "obj4 = pd.Series(data_dict, index=new_index)\n",
        "print(obj4)\n",
        "\n",
        "# Detecting missing data using pd and Series\n",
        "print(pd.isna(obj4))\n",
        "print(pd.notna(obj4))\n",
        "print(obj4.isna())\n",
        "print(obj4.notna())"
      ],
      "id": "0acac9c0",
      "execution_count": null,
      "outputs": []
    },
    {
      "cell_type": "markdown",
      "metadata": {},
      "source": [
        "**Q: How to assign a name to a pandas Series and customize its index name?**\n"
      ],
      "id": "d7217ff9"
    },
    {
      "cell_type": "code",
      "metadata": {},
      "source": [
        "sdata = {\"Ohio\": 35000, \"Texas\": 71000, \"Oregon\": 16000, \"Utah\": 5000}\n",
        "states = [\"California\", \"Ohio\", \"Oregon\", \"Texas\"]\n",
        "\n",
        "obj4 = pd.Series(sdata, index=states)\n",
        "print(obj4)\n",
        "\n",
        "obj4.name = \"population\"\n",
        "obj4.index.name = \"state\"\n",
        "print(obj4)"
      ],
      "id": "d55cb2cf",
      "execution_count": null,
      "outputs": []
    },
    {
      "cell_type": "markdown",
      "metadata": {},
      "source": [
        "Q: Change the index of Series in place\n"
      ],
      "id": "d4479539"
    },
    {
      "cell_type": "code",
      "metadata": {},
      "source": [
        "# change the index using index attribute\n",
        "obj.index = [\"One\", \"Two\", \"Three\", \"Four\"]\n",
        "print(obj)"
      ],
      "id": "5a565351",
      "execution_count": null,
      "outputs": []
    },
    {
      "cell_type": "markdown",
      "metadata": {},
      "source": [
        "### DataFrame\n",
        "\n",
        "Rectangular table of data, ordered, named collection of columns. Each column can be a different value type. It has both a row and column index - A dictionary of Series\n",
        "\n",
        "**Q. Create a DataFrame from a dictionary of equal-length lists or Numpy arrays**\n"
      ],
      "id": "99d40798"
    },
    {
      "cell_type": "code",
      "metadata": {},
      "source": [
        "# most common way of creating a DataFrame\n",
        "data = {\"state\": [\"Ohio\", \"Ohio\", \"Ohio\", \"Nevada\", \"Nevada\", \"Nevada\"],\n",
        "        \"year\": [2000, 2001, 2002, 2001, 2002, 2003],\n",
        "        \"pop\": [1.5, 1.7, 3.6, 2.4, 2.9, 3.2]}\n",
        "frame = pd.DataFrame(data)\n",
        "\n",
        "print(frame)\n",
        "print(frame.head())\n",
        "print(frame.tail())\n",
        "print(frame.columns.array)\n",
        "print(frame.index.array)"
      ],
      "id": "44fee5af",
      "execution_count": null,
      "outputs": []
    },
    {
      "cell_type": "markdown",
      "metadata": {},
      "source": [
        "**Q: Create a DataFrame in a customized sequence of columns**\n"
      ],
      "id": "63c484a6"
    },
    {
      "cell_type": "code",
      "metadata": {},
      "source": [
        "# create a DataFrame in a custom column order - default is by the order of key value\n",
        "frame2 = pd.DataFrame(data, columns=[\"year\", \"state\", \"pop\", \"debt\"])\n",
        "print(frame2)\n",
        "print(frame2.columns)"
      ],
      "id": "e435f739",
      "execution_count": null,
      "outputs": []
    },
    {
      "cell_type": "markdown",
      "metadata": {},
      "source": [
        "**Q: Retrieve columns in a DataFrame**\n"
      ],
      "id": "3635458e"
    },
    {
      "cell_type": "code",
      "metadata": {},
      "source": [
        "# Retrieve columns using [] or dot notation\n",
        "print(frame2[\"state\"])\n",
        "print(frame2.state)"
      ],
      "id": "470ee2b5",
      "execution_count": null,
      "outputs": []
    },
    {
      "cell_type": "markdown",
      "metadata": {},
      "source": [
        "Q: Retrieve rows using row labels and integer\n"
      ],
      "id": "b335227c"
    },
    {
      "cell_type": "code",
      "metadata": {},
      "source": [
        "# data source dictionary\n",
        "data = {'A': [1, 2, 3, 4, 5],\n",
        "        'B': [6, 7, 8, 9, 10]}\n",
        "\n",
        "# DataFrame\n",
        "df = pd.DataFrame(data, index=['row1', 'row2', 'row3', 'row4', 'row5'])\n",
        "print(df)\n",
        "\n",
        "# Label-based selection\n",
        "print(df.loc['row1':'row3'])\n",
        "\n",
        "# Integer-based selection\n",
        "print(df.iloc[0:2])\n"
      ],
      "id": "52357992",
      "execution_count": null,
      "outputs": []
    },
    {
      "cell_type": "markdown",
      "metadata": {},
      "source": [
        "**Q: Modify the 'debt' column in the DataFrame with a specific scalar value or an array of values**\n"
      ],
      "id": "7c995c46"
    },
    {
      "cell_type": "code",
      "metadata": {},
      "source": [
        "frame2[\"debt\"] = 16.5\n",
        "print(frame2)\n",
        "\n",
        "frame2[\"debt\"] = np.arange(6.)\n",
        "print(frame2)"
      ],
      "id": "56e4ddb9",
      "execution_count": null,
      "outputs": []
    },
    {
      "cell_type": "markdown",
      "metadata": {},
      "source": [
        "Q: **Modify the 'debt' column in the DataFrame with a Series object with different number of data**\n"
      ],
      "id": "c2661b3f"
    },
    {
      "cell_type": "code",
      "metadata": {},
      "source": [
        "# Series index value is used to match the index of DataFrame, if not presented, it is ignored\n",
        "val = pd.Series([-1.2, -1.5, -1.7], index=[2, 4, 32])\n",
        "frame2[\"debt\"] = val\n",
        "print(frame2)"
      ],
      "id": "8511a88e",
      "execution_count": null,
      "outputs": []
    },
    {
      "cell_type": "markdown",
      "metadata": {},
      "source": [
        "**Q: Create a column called *`eastern`*, and initialize it with Boolean value if the state is *`Ohio`***\n"
      ],
      "id": "d798e78b"
    },
    {
      "cell_type": "code",
      "metadata": {},
      "source": [
        "frame2[\"eastern\"] = (frame2[\"state\"] == \"Ohio\")\n",
        "print(frame2)"
      ],
      "id": "f6bea64f",
      "execution_count": null,
      "outputs": []
    },
    {
      "cell_type": "markdown",
      "metadata": {},
      "source": [
        "**Q: Delete column *`eastern`* and list all the columns for the DataFrame**\n"
      ],
      "id": "e01a9c0e"
    },
    {
      "cell_type": "code",
      "metadata": {},
      "source": [
        "del frame2[\"eastern\"]\n",
        "frame2.columns"
      ],
      "id": "52336dac",
      "execution_count": null,
      "outputs": []
    },
    {
      "cell_type": "markdown",
      "metadata": {},
      "source": [
        "**Q: Create a DataFrame using a nested dictionary data.**\n"
      ],
      "id": "c06b27ed"
    },
    {
      "cell_type": "code",
      "metadata": {},
      "source": [
        "populations = {\"Ohio\": {2000: 1.5, 2001: 1.7, 2002: 3.6},\n",
        "               \"Nevada\": {2001: 2.4, 2002: 2.9}}\n",
        "print(populations)\n",
        "\n",
        "# outer dictionary key - column indices\n",
        "df_populations = pd.DataFrame(populations)\n",
        "print(df_populations)"
      ],
      "id": "ee3824d7",
      "execution_count": null,
      "outputs": []
    },
    {
      "cell_type": "markdown",
      "metadata": {},
      "source": [
        "**Q: Transpose the df_populations DataFrame.**\n"
      ],
      "id": "b14b90a9"
    },
    {
      "cell_type": "code",
      "metadata": {},
      "source": [
        "df_populations.T"
      ],
      "id": "3ce0a7bf",
      "execution_count": null,
      "outputs": []
    },
    {
      "cell_type": "markdown",
      "metadata": {},
      "source": [
        "**Q: Create a DataFrame using a nested dictionary data, using new column index**\n"
      ],
      "id": "2926dfb7"
    },
    {
      "cell_type": "code",
      "metadata": {},
      "source": [
        "pd.DataFrame(populations, index=[2000, 2001, 2012])"
      ],
      "id": "a7f3c67e",
      "execution_count": null,
      "outputs": []
    },
    {
      "cell_type": "markdown",
      "metadata": {},
      "source": [
        "Q. Create a DataFrame using frame3, using a dictionary with a few Series of columns with custom range\n"
      ],
      "id": "75d9a0ee"
    },
    {
      "cell_type": "code",
      "metadata": {},
      "source": [
        "sub_populations = {\n",
        "    \"Ohio2\": df_populations[\"Ohio\"][:-1],\n",
        "    \"Nevada2\": df_populations[\"Nevada\"][:2]\n",
        "}\n",
        "df_sub_populations = pd.DataFrame(sub_populations)\n",
        "print(df_sub_populations)"
      ],
      "id": "cede3565",
      "execution_count": null,
      "outputs": []
    },
    {
      "cell_type": "code",
      "metadata": {},
      "source": [
        "populations"
      ],
      "id": "ce0c3442",
      "execution_count": null,
      "outputs": []
    },
    {
      "cell_type": "markdown",
      "metadata": {},
      "source": [
        "**Q: Create a DataFrame using a NumPy 2D-array. Give custom row and column labels**\n"
      ],
      "id": "0c14075d"
    },
    {
      "cell_type": "code",
      "metadata": {},
      "source": [
        "# Create a 2D ndarray as data source\n",
        "data = np.array([[1, 2, 3,],\n",
        "                [4, 5, 6],\n",
        "                [7, 8, 9]])\n",
        "\n",
        "# Define custom row and column labels\n",
        "row_labels = ['Row-1', 'Row-2', 'Row-3']\n",
        "column_labels = ['A', 'B', 'C']\n",
        "\n",
        "# Create a DataFrame with the custom labels\n",
        "df = pd.DataFrame(data, index=row_labels, columns=column_labels)\n",
        "print(df)"
      ],
      "id": "75da50e7",
      "execution_count": null,
      "outputs": []
    },
    {
      "cell_type": "markdown",
      "metadata": {},
      "source": [
        "**Q: Create a DataFrame using a dictionary of arrays, lists or tuples.**\n"
      ],
      "id": "01260b4e"
    },
    {
      "cell_type": "code",
      "metadata": {},
      "source": [
        "# DataFrame from a dictionary\n",
        "\n",
        "# Create a dictionary with arrays\n",
        "data_dict = {\n",
        "    'Name': np.array(['Alice', 'Bob', 'Charlie']),\n",
        "    'Age': np.array([25, 30, 28]),\n",
        "    'City': np.array(['Toronto', 'Calgary', 'Ottawa'])\n",
        "}\n",
        "\n",
        "# Create a pandas DataFrame\n",
        "df = pd.DataFrame(data_dict)\n",
        "\n",
        "print(df)"
      ],
      "id": "ce0ef49b",
      "execution_count": null,
      "outputs": []
    },
    {
      "cell_type": "code",
      "metadata": {},
      "source": [
        "# DataFrame from a list\n",
        "\n",
        "# Create a dictionary with lists\n",
        "data_dict = {\n",
        "    'Country': ['USA', 'Canada', 'UK'],\n",
        "    'Population': [328, 38, 66],\n",
        "    'Capital': ['Washington D.C.', 'Ottawa', 'London']\n",
        "}\n",
        "\n",
        "# Create a pandas DataFrame\n",
        "df = pd.DataFrame(data_dict)\n",
        "\n",
        "print(df)"
      ],
      "id": "63f55d07",
      "execution_count": null,
      "outputs": []
    },
    {
      "cell_type": "code",
      "metadata": {},
      "source": [
        "# Create a dictionary with tuples\n",
        "data_dict = {\n",
        "    'Fruit': ('Apple', 'Banana', 'Cherry'),\n",
        "    'Color': ('Red', 'Yellow', 'Red'),\n",
        "    'Taste': ('Sweet', 'Sweet', 'Tart')\n",
        "}\n",
        "\n",
        "# Create a pandas DataFrame\n",
        "df = pd.DataFrame(data_dict)\n",
        "\n",
        "print(df)"
      ],
      "id": "a3b8fa2a",
      "execution_count": null,
      "outputs": []
    },
    {
      "cell_type": "markdown",
      "metadata": {},
      "source": [
        "**Q: Create a DataFrame using a NumPy structured array**\n"
      ],
      "id": "46639e3f"
    },
    {
      "cell_type": "code",
      "metadata": {},
      "source": [
        "# Create a NumPy structured array\n",
        "\n",
        "# Field + Type: (ID, Name, Age)\n",
        "\n",
        "data = np.array(\\[(100, 'Alice', 25), (200, 'Bob', 30), (300, 'Charlie', 29)\\], dtype=\\[('ID', int), ('Name', 'U10'), ('Age', int)\\])\n",
        "\n",
        "# Create a DataFrame from the structued array\n",
        "\n",
        "df = pd.DataFrame(data) print(df)"
      ],
      "id": "358ada93",
      "execution_count": null,
      "outputs": []
    },
    {
      "cell_type": "markdown",
      "metadata": {},
      "source": [
        "**Q:** **Create a DataFrame using a list of dictionaries / Series.**\n"
      ],
      "id": "fe5c94c0"
    },
    {
      "cell_type": "code",
      "metadata": {},
      "source": [
        "# Create a list of dictionaries\n",
        "\n",
        "data_dict = \\[ {'Name': 'Alice', 'Age': 25, 'City': 'New York'}, {'Name': 'Bob', 'Age': 30, 'City': 'San Francisco'}, {'Name': 'Charlie', 'Age': 28, 'City': 'Los Angeles'}\\]\n",
        "\n",
        "# Create a list of Series\n",
        "\n",
        "name_series = pd.Series(\\['Alice', 'Bob', 'Charlie'\\], name='Name') age_series = pd.Series(\\[25, 30, 28\\], name='Age') city_series = pd.Series( \\['New York', 'San Francisco', 'Los Angeles'\\], name='City')\n",
        "\n",
        "# Create a DataFrame from the list of dictionaries\n",
        "\n",
        "df1 = pd.DataFrame(data_dict) print(df1) print(\"-\" \\* 50) \\# Create a DataFrame from the list of Series df2 = pd.DataFrame({'Name': name_series, 'Age': age_series, 'City': city_series}) print(df2)"
      ],
      "id": "1e1c45d3",
      "execution_count": null,
      "outputs": []
    },
    {
      "cell_type": "markdown",
      "metadata": {},
      "source": [
        "**Q: Create a DataFrame using a list of lists / tuples**\n"
      ],
      "id": "2f0643c6"
    },
    {
      "cell_type": "code",
      "metadata": {},
      "source": [
        "# Create a list of lists\n",
        "data_list = [\n",
        "    ['Alice', 25, 'New York'],\n",
        "    ['Bob', 30, 'San Francisco'],\n",
        "    ['Charlie', 28, 'Los Angeles']\n",
        "]\n",
        "\n",
        "# Define column labels\n",
        "columns = ['Name', 'Age', 'City']\n",
        "\n",
        "# Create a DataFrame from the list of lists\n",
        "df = pd.DataFrame(data_list, columns=columns)\n",
        "print(df)\n",
        "\n",
        "print(\"-\" * 50)\n",
        "\n",
        "# Create a list of tuples\n",
        "data_tuples = [\n",
        "    ('Alice', 25, 'New York'),\n",
        "    ('Bob', 30, 'San Francisco'),\n",
        "    ('Charlie', 28, 'Los Angeles')\n",
        "]\n",
        "\n",
        "# Define column labels\n",
        "columns = ['name', 'age', 'city']\n",
        "\n",
        "# Create a DataFrame from the list of tuples\n",
        "df = pd.DataFrame(data_tuples, columns=columns)\n",
        "print(df)"
      ],
      "id": "df416842",
      "execution_count": null,
      "outputs": []
    },
    {
      "cell_type": "markdown",
      "metadata": {},
      "source": [
        "**Q: Create a DataFrame using another DataFrame** \\`\n"
      ],
      "id": "4f7e5ff6"
    },
    {
      "cell_type": "code",
      "metadata": {},
      "source": [
        "# Create the original DataFrame\n",
        "\n",
        "data = { 'Name': \\['Alice', 'Bob', 'Charlie'\\], 'Age': \\[25, 30, 28\\], 'City': \\['New York', 'San Francisco', 'Los Angeles'\\] }\n",
        "\n",
        "original_df = pd.DataFrame(data) print(original_df) print(\"-\" \\* 50)\n",
        "\n",
        "# Create a new DataFrame based on the original DataFrame\n",
        "\n",
        "copy_original_df = original_df.copy() copy_original_df.columns = \\['\\_name', '\\_age', '\\_city'\\] print(copy_original_df) print(\"-\" \\* 50)\n",
        "\n",
        "new_df = pd.DataFrame(original_df) print(new_df) print(\"-\" \\* 50)\n",
        "\n",
        "print(id(original_df)) print(id(copy_original_df)) print(id(new_df))"
      ],
      "id": "8c6a26c8",
      "execution_count": null,
      "outputs": []
    },
    {
      "cell_type": "markdown",
      "metadata": {},
      "source": [
        "**Q. Create a DataFrame from a dictionary, then convert it to a NumPy array.**\n"
      ],
      "id": "8046c2cc"
    },
    {
      "cell_type": "code",
      "metadata": {},
      "source": [
        "# Data source in a dictionary\n",
        "data = {\n",
        "    \"state\": [\"Ohio\", \"Ohio\", \"Ohio\", \"Nevada\", \"Nevada\", \"Nevada\"],\n",
        "    \"year\": [2000, 2001, 2002, 2001, 2002, 2003],\n",
        "    \"pop\": [1.5, 1.7, 3.6, 2.4, 2.9, 3.2]\n",
        "}\n",
        "print(data, type(data))\n",
        "print(\"-\"*50)\n",
        "\n",
        "# Create a DataFrame and add a column 'debt'\n",
        "frame2 = pd.DataFrame(data)\n",
        "val = pd.Series([-1.2, -1.5, -1.7], index=[2, 4, 5])\n",
        "frame2[\"debt\"] = val\n",
        "print(frame2, type(frame2))\n",
        "print(\"-\"*50)\n",
        "\n",
        "# Convert DataFrame to NuPy 2d-ndarray\n",
        "frame2_array = frame2.to_numpy()\n",
        "print(frame2_array, type(frame2_array))"
      ],
      "id": "9b080b6c",
      "execution_count": null,
      "outputs": []
    },
    {
      "cell_type": "markdown",
      "metadata": {},
      "source": [
        "## **Index Objects**\n",
        "\n",
        "Index objects holds the information about axis labels (labels assigned to rows and columns in DataFrame and Series) and meta data. Index objects are immutable and it makes it safer to share index objects among data structures.\n",
        "\n",
        "Q: Construct a Series object and retrieve index information from it.\n"
      ],
      "id": "2ad30b47"
    },
    {
      "cell_type": "code",
      "metadata": {},
      "source": [
        "# Create a Series\n",
        "obj = pd.Series(np.arange(3), index=[\"a\", \"b\", \"c\"])  # row labels\n",
        "print(obj, type(obj))\n",
        "print(obj.index)\n",
        "print(obj.index[1:])  # slicing the array of index object"
      ],
      "id": "3481e6f3",
      "execution_count": null,
      "outputs": []
    },
    {
      "cell_type": "markdown",
      "metadata": {},
      "source": [
        "### Q: Create an Index Object and construct a Series using the object.\n"
      ],
      "id": "a47869fd"
    },
    {
      "cell_type": "code",
      "metadata": {},
      "source": [
        "# Create an Index object\n",
        "labels = pd.Index(np.arange(3))\n",
        "print(labels, type(labels))\n",
        "\n",
        "# Create a Series using the index object\n",
        "obj2 = pd.Series([1.5, -2.5, 0], index=labels)\n",
        "print(obj2, type(obj2))\n",
        "\n",
        "# Test equality of the index object\n",
        "print(obj2.index is labels)\n",
        "print(id(obj2.index))\n",
        "print(id(labels))  # refering to the the same object"
      ],
      "id": "346a1caa",
      "execution_count": null,
      "outputs": []
    },
    {
      "cell_type": "markdown",
      "metadata": {},
      "source": [
        "### Q: Create a DataFrame and use its index and columns to test Set operation for element existence.\n"
      ],
      "id": "a170639d"
    },
    {
      "cell_type": "code",
      "metadata": {},
      "source": [
        "# Data source in a idctionary\n",
        "populations = {\n",
        "    \"Ohio\": {2000: 1.5, 2001: 1.7, 2002: 3.6},\n",
        "    \"Nevada\": {2001: 2.4, 2002: 2.9}\n",
        "}\n",
        "\n",
        "# Create a DataFrame\n",
        "frame3 = pd.DataFrame(populations)\n",
        "print(frame3)\n",
        "print(\"Index: Outer keys become column labels, Inner keys become row labels.\")\n",
        "print(\"-\" * 50)\n",
        "\n",
        "# Indexes for columns and rows\n",
        "print(frame3.columns, type(frame3.columns))\n",
        "print(frame3.index, type(frame3.index))\n",
        "print(\"-\" * 50)\n",
        "\n",
        "# Check with set operator\n",
        "print(\"Ohio is in index for columns: \", \"Ohio\" in frame3.columns)\n",
        "print(\"2003 is in index for rows: \", \"2003\" in frame3.index)"
      ],
      "id": "0052a721",
      "execution_count": null,
      "outputs": []
    },
    {
      "cell_type": "markdown",
      "metadata": {},
      "source": [
        "### Q: Concatenate with additional Index objects, producing a new index\n"
      ],
      "id": "72f8b2db"
    },
    {
      "cell_type": "code",
      "metadata": {},
      "source": [
        "# Create an initial index\n",
        "index1 = pd.Index([1, 2, 3])\n",
        "\n",
        "# Create a new index to append\n",
        "index2 = pd.Index([4, 5, 6])\n",
        "\n",
        "# Use the append() method to concatenate index2 to index1import pandas as pd\n",
        "\n",
        "# Create two Index objects\n",
        "index1 = pd.Index([1, 2, 3, 4, 5])\n",
        "index2 = pd.Index([3, 4, 5, 6, 7])\n",
        "\n",
        "# Use the difference() method to find the set difference\n",
        "result = index1.difference(index2)\n",
        "\n",
        "# Display the elements in index1 that are not in index2\n",
        "print(result)\n",
        "\n",
        "new_index = index1.append(index2)\n",
        "\n",
        "# Display the new concatenated index\n",
        "print(new_index)"
      ],
      "id": "b784490f",
      "execution_count": null,
      "outputs": []
    },
    {
      "cell_type": "markdown",
      "metadata": {},
      "source": [
        "### Q: Compute set difference, intersection and union as an index between two index objects\n"
      ],
      "id": "23b0d621"
    },
    {
      "cell_type": "code",
      "metadata": {},
      "source": [
        "# Create two Index objects\n",
        "index1 = pd.Index([1, 2, 3, 4, 5])\n",
        "index2 = pd.Index([3, 4, 5, 6, 7])\n",
        "\n",
        "# Use the difference() method to find the set difference\n",
        "result = index1.difference(index2)\n",
        "print(result)\n",
        "\n",
        "# intersection\n",
        "result = index1.intersection(index2)\n",
        "print(result)\n",
        "\n",
        "# union\n",
        "result = index1.union(index2)\n",
        "print(result)"
      ],
      "id": "fa741108",
      "execution_count": null,
      "outputs": []
    },
    {
      "cell_type": "markdown",
      "metadata": {},
      "source": [
        "### Q: Compute Boolean array indicating whether each value is contained in the passed collection\n"
      ],
      "id": "40cf5e29"
    },
    {
      "cell_type": "code",
      "metadata": {},
      "source": [
        "# Create an Index object\n",
        "\n",
        "index = pd.Index(\\[1, 2, 3, 4, 5\\])\n",
        "\n",
        "# Create a collection of values to check for containment\n",
        "\n",
        "collection = \\[3, 5, 7\\]\n",
        "\n",
        "# Use the isin() method to check for containment\n",
        "\n",
        "is_in_collection = index.isin(collection)\n",
        "\n",
        "# Display the Boolean array for each element's containment\n",
        "\n",
        "print(is_in_collection)"
      ],
      "id": "142a2d40",
      "execution_count": null,
      "outputs": []
    },
    {
      "cell_type": "markdown",
      "metadata": {},
      "source": [
        "### Question: Create a new Index object by deleting passed lables from the index.\n"
      ],
      "id": "6ed47c01"
    },
    {
      "cell_type": "code",
      "metadata": {},
      "source": [
        "# Create an Index\n",
        "index = pd.Index(['A', 'B', 'C', 'D', 'E'])\n",
        "print(\"original Index obj: \", index)\n",
        "\n",
        "# Drop specific labels from the Index\n",
        "labels_to_drop = ['B', 'C']\n",
        "new_index = index.drop(labels_to_drop)\n",
        "print(\"new Index obj: \", new_index)"
      ],
      "id": "eb666cb6",
      "execution_count": null,
      "outputs": []
    },
    {
      "cell_type": "markdown",
      "metadata": {},
      "source": [
        "### Question: Create a new Index object by inserting new labels to an existing Index object, after the element matching with the first letter of the new label\n"
      ],
      "id": "70b20d1f"
    },
    {
      "cell_type": "code",
      "metadata": {},
      "source": [
        "# Create a Index object\n",
        "original_labels = ['A', 'B', 'C', 'D', 'E']\n",
        "index = pd.Index(original_labels)\n",
        "print(\"Original index: \", index)\n",
        "\n",
        "# additional labels to be inserted\n",
        "additional_labels = ['C-3', 'C-5', 'C-1', 'C-2', 'C-4']\n",
        "print(\"Labels to insert: \", additional_labels)\n",
        "\n",
        "# insert the labels\n",
        "new_index = index\n",
        "additional_labels.sort(reverse=True)\n",
        "# print(\"reverse-sorted additional labels: \", additional_labels)\n",
        "\n",
        "for label in additional_labels:\n",
        "    first_letter = label[:1]\n",
        "\n",
        "    if (first_letter in original_labels):\n",
        "        # find the index of the first letter\n",
        "        idx = original_labels.index(first_letter)\n",
        "        # print(first_letter, label, idx)\n",
        "        new_index = new_index.insert(idx+1, label)\n",
        "\n",
        "print(\"New index: \", new_index)"
      ],
      "id": "e04712df",
      "execution_count": null,
      "outputs": []
    },
    {
      "cell_type": "markdown",
      "metadata": {},
      "source": [
        "### Question: You have a Pandas Index object, and you want to check if it is monotonically decreasing. Write a Python function that takes an Index object as input and returns **`True`** if the index is monotonically decreasing, and **`False`** otherwise.\n"
      ],
      "id": "76b61039"
    },
    {
      "cell_type": "code",
      "metadata": {},
      "source": [
        "# Function to check if an Index is monotonically  decreasing\n",
        "def is_monotonic_decreasing(index):\n",
        "    return index.is_monotonic_decreasing\n",
        "  \n",
        "# indexes to test\n",
        "index1 = pd.Index([5, 4, 3, 2, 1])\n",
        "index2 = pd.Index(['E', 'D', 'C', 'B', 'A'])\n",
        "index3 = pd.Index([4, 3, 2, 'D', 'C', 'B'])\n",
        "\n",
        "list_of_index = [index1, index2, index3]\n",
        "for index in list_of_index:\n",
        "    print(index, is_monotonic_decreasing(index))"
      ],
      "id": "bbfa5189",
      "execution_count": null,
      "outputs": []
    },
    {
      "cell_type": "markdown",
      "metadata": {},
      "source": [
        "### Question: You have a Pandas Index object, and you want to check if it contains unique elements. Write a Python function that takes an Index object as input and returns `True` if all the elements are unique, and `False` otherwise.\n"
      ],
      "id": "bcf27b4c"
    },
    {
      "cell_type": "code",
      "metadata": {},
      "source": [
        "# Create indexes for testing\n",
        "index1 = pd.Index(['A', 'B', 'C', 'D', 'E'])\n",
        "index2 = pd.Index(['A', 'B', 'C', 'A', 'D'])\n",
        "\n",
        "# Function to check if an Index contatins unique elements\n",
        "def is_unique(index):\n",
        "    return index.is_unique\n",
        "\n",
        "# Test the indexes\n",
        "print(index1, is_unique(index1))\n",
        "print(index2, is_unique(index2))"
      ],
      "id": "e1e7eb48",
      "execution_count": null,
      "outputs": []
    },
    {
      "cell_type": "markdown",
      "metadata": {},
      "source": [
        "### You have a Pandas Index object, and you want to retrieve the unique elements from it. Write a Python function that takes an Index object as input and returns a list of unique elements from the index.\n"
      ],
      "id": "61ceaadf"
    },
    {
      "cell_type": "code",
      "metadata": {},
      "source": [
        "index = pd.Index(['A', 'B', 'C', 'A', 'D', 'B'])\n",
        "\n",
        "def get_unique_elements(index):\n",
        "    return index.unique()\n",
        "\n",
        "unique_elements = get_unique_elements(index)\n",
        "print(\"Unique elements: \", unique_elements)  # Index object\n",
        "print(unique_elements.tolist())  # List object"
      ],
      "id": "835d3a36",
      "execution_count": null,
      "outputs": []
    },
    {
      "cell_type": "markdown",
      "metadata": {},
      "source": [
        "## The mechanics of interacting with data in Series and DataFrame\n",
        "\n",
        "### Question: You're working with a dataset of daily stock prices for a portfolio of companies. The dataset has missing values for certain days, and you want to reindex it to ensure you have a complete set of daily data for a specified date range. You need to create a Python function that takes several arguments to demonstrate the use of the reindex() method and its optional parameters. Your task is to implement the reindex_stock_data() function, which demonstrates the use of these parameters. The function should reindex the stock price data to the specified date range, filling missing data with the provided fill_value and considering the other optional parameters.\n",
        "\n",
        "-   `data`: A DataFrame containing stock price data with a date index.\n",
        "-   `start_date`: The start date of the desired date range.\n",
        "-   `end_date`: The end date of the desired date range.\n",
        "-   `fill_value`: The value to fill missing data points.\n",
        "-   `method`: A method to use for filling missing values (e.g., 'ffill', 'bfill').\n",
        "-   `limit`: The maximum number of consecutive NaN values to fill.\n",
        "-   `tolerance`: The maximum allowed difference in the index value when reindexing.\n",
        "-   `level`: The level in case of MultiIndex.\n",
        "-   `copy`: Whether to create a copy of the original data or reindex in-place.\n"
      ],
      "id": "ec2b2cda"
    },
    {
      "cell_type": "code",
      "metadata": {},
      "source": [
        "# Function to reindex data as the parameters instruct\n",
        "def reindex_stock_data(\n",
        "    data,\n",
        "    start_date,\n",
        "    end_date,\n",
        "    fill_value,\n",
        "    method=None,\n",
        "    limit=None,\n",
        "    tolerance=None,\n",
        "    level=None,\n",
        "    copy=False\n",
        "):\n",
        "    # print(\"fill_value passed in: \" + str(fill_value))\n",
        "    # Fill NaN values with the specified fill_value\n",
        "    data_filled = data.fillna(fill_value)\n",
        "    # print(\"data_filled:\\n\", data_filled)\n",
        "\n",
        "    # Generate fixed-frequency Datetime index - index of dates and times\n",
        "    date_range = pd.date_range(start=start_date, end=end_date, freq='D')\n",
        "\n",
        "    # Reindex the filled data\n",
        "    result = data_filled.reindex(date_range, method=method, tolerance=tolerance,\n",
        "                                 limit=limit, fill_value=fill_value, level=level, copy=copy)\n",
        "    return result\n",
        "\n",
        "# Create an incomplete initial data for testing\n",
        "data = pd.DataFrame({\n",
        "    'AAPL': [150, 151, np.nan, 153, np.nan],\n",
        "    'GOOGL': [2000, np.nan, 2020, 2030, 2040],\n",
        "    'MSFT': [300, np.nan, 302, np.nan, 304],\n",
        "    'AMZN': [3500, 3510, np.nan, np.nan, 3540],\n",
        "    'TSLA': [np.nan, 701, 702, 703, np.nan]\n",
        "}, index=pd.date_range(start='2022-01-01', periods=5, freq='D'))\n",
        "print(\"Original data:\\n\", data)\n",
        "\n",
        "# Set parameters and values for the function - reindexing\n",
        "start_date = '2022-01-01'\n",
        "end_date = '2022-01-05'\n",
        "fill_value = 0\n",
        "method = 'bfill'  # Backward fill\n",
        "limit = 1\n",
        "tolerance = '1D'  # Tolerance of 1 day\n",
        "level = None\n",
        "copy = True\n",
        "\n",
        "# print(\"fill_value is: \", str(fill_value))\n",
        "# Call the function and reindex the data\n",
        "result = reindex_stock_data(\n",
        "    data, start_date, end_date, fill_value, method, limit, tolerance, level, copy)\n",
        "print(\"Result re-indexed data:\\n\", result)"
      ],
      "id": "b38fec3f",
      "execution_count": null,
      "outputs": []
    },
    {
      "cell_type": "markdown",
      "metadata": {},
      "source": [
        "## Question: Create a DataFrame called 'sales_data' that contains sales data for various products in different stores. Use the 'sales_data' and create DataFrames below.\n"
      ],
      "id": "9b4e0e0c"
    },
    {
      "cell_type": "code",
      "metadata": {},
      "source": [
        "import pandas as pd\n",
        "\n",
        "# Create a dictionary of store sales data and a DataFrmae\n",
        "data = {\n",
        "    'Store': ['A', 'B', 'C', 'A', 'B', 'C', 'A', 'B', 'C'],\n",
        "    'Products': ['X', 'Y', 'Z', 'X', 'Y', 'Z', 'X', 'Y', 'Z'],\n",
        "    'Sales': [1000, 1500, 1200, 2000, 1800, 2200, 1200, 1400, 1100]\n",
        "}\n",
        "\n",
        "sales_data = pd.DataFrame(data)\n",
        "print(sales_data)"
      ],
      "id": "4fcfa719",
      "execution_count": null,
      "outputs": []
    },
    {
      "cell_type": "code",
      "metadata": {},
      "source": [
        "# Create a DataFrame called 'store_A_sales', \n",
        "# by selecting all the products sold in Store A\n",
        "\n",
        "cond = sales_data['Store'] == 'A'\n",
        "store_A_sales = sales_data[cond]\n",
        "print(store_A_sales)"
      ],
      "id": "f366fc9d",
      "execution_count": null,
      "outputs": []
    },
    {
      "cell_type": "markdown",
      "metadata": {},
      "source": [
        "Create a DataFrame called 'high_sales_products' for rows where 'Sales' is greater than or equal to 1500. Use the DataFrame 'sales_data'. Display only 'Products' and 'Sales' columns.\n"
      ],
      "id": "d9f6810b"
    },
    {
      "cell_type": "code",
      "metadata": {},
      "source": [
        "# Create a DataFrame indexing with Boolean values meeting the sales condition\n",
        "high_sales_products = sales_data.loc[sales_data['Sales'] >= 1500, ['Products', 'Sales']]\n",
        "print(\"High sales products from store 'A'\\n\", high_sales_products)"
      ],
      "id": "acde93ed",
      "execution_count": null,
      "outputs": []
    },
    {
      "cell_type": "markdown",
      "metadata": {},
      "source": [
        "### Dropping Entries from an Axis\n",
        "\n",
        "Create a Series for the questions.\n"
      ],
      "id": "0552b18b"
    },
    {
      "cell_type": "code",
      "metadata": {},
      "source": [
        "import pandas as pd\n",
        "import numpy as np\n",
        "\n",
        "obj = pd.Series(np.arange(5.), index=list(\"abcde\"))\n",
        "print(obj)"
      ],
      "id": "e46bc297",
      "execution_count": null,
      "outputs": []
    },
    {
      "cell_type": "markdown",
      "metadata": {},
      "source": [
        "###### **Question:** Drop single or multiple indexes - 'c' or 'c' and 'd' both from the Series.\n"
      ],
      "id": "74dda99d"
    },
    {
      "cell_type": "code",
      "metadata": {},
      "source": [
        "new_obj = obj.drop('c')\n",
        "print(new_obj)\n",
        "new_obj = obj.drop(['c','d'])\n",
        "print(new_obj)"
      ],
      "id": "6b2e788e",
      "execution_count": null,
      "outputs": []
    },
    {
      "cell_type": "markdown",
      "metadata": {},
      "source": [
        "###### Indexing and retrieving from DataFrame with a single value of sequence\n"
      ],
      "id": "4f164003"
    },
    {
      "cell_type": "code",
      "metadata": {},
      "source": [
        "import pandas as pd\n",
        "import numpy as np\n",
        "\n",
        "# Create a DataFrame\n",
        "data = pd.DataFrame(np.arange(16).reshape((4, 4)),\n",
        "                    index=[\"Ohio\", \"Colorado\", \"Utah\", \"New York\"],\n",
        "                    columns=[\"one\", \"two\", \"three\", \"four\"]\n",
        ")\n",
        "print(data)\n",
        "\n",
        "# Drop 'Colorado' and 'Ohio', with a sequence of labels from the row labels (axis=0)\n",
        "data2 = data.drop(index=['Colorado', 'Ohio'])\n",
        "print(data2)\n",
        "\n",
        "# Drop the column 'two'\n",
        "data2 = data.drop(columns = 'two')\n",
        "print(data2)\n",
        "\n",
        "# Drop column(s) using axis parameter\n",
        "data2 = data.drop(\"one\", axis=1)\n",
        "print(data2)\n",
        "data2 = data.drop([\"two\", \"four\"], axis=1)\n",
        "print(data2)"
      ],
      "id": "7d62044d",
      "execution_count": null,
      "outputs": []
    },
    {
      "cell_type": "markdown",
      "metadata": {},
      "source": [
        "###### Indexing, Selection, and Filtering\n"
      ],
      "id": "ab1240ae"
    },
    {
      "cell_type": "code",
      "metadata": {},
      "source": [
        "import pandas as pd\n",
        "import numpy as np\n",
        "\n",
        "# Create a Seriese\n",
        "obj = pd.Series(np.arange(4.), index=[\"a\",\"b\",\"c\",\"d\"])\n",
        "print(obj)\n",
        "\n",
        "# Select using a label\n",
        "print(obj[\"b\"])\n",
        "\n",
        "# Select using a integer index (like NumPy)\n",
        "print(obj[1])\n",
        "\n",
        "# Select using a slice of integers (like NumPy)\n",
        "print(obj[2:4])\n",
        "\n",
        "# Select using a sequence of labels\n",
        "print(obj[[\"b\", \"a\" , \"d\"]])\n",
        "\n",
        "# Select using a list of integers\n",
        "print(obj[[1, 3]])\n",
        "\n",
        "# Select using an array of Boolean values, condition\n",
        "cond = obj < 2\n",
        "print(obj[cond]) # equivalent to obj[[obj < 2]]\n",
        "\n",
        "# Create Serieses\n",
        "obj1 = pd.Series([1, 2, 3], index=[2, 0, 1])\n",
        "obj2 = pd.Series([1, 2, 3], index=[\"a\", \"b\", \"c\"])\n",
        "print(\"obj1\\n:\", obj1)\n",
        "print(\"obj2\\n:\", obj2)\n",
        "\n",
        "# Prefer to use loc when selecting using labels\n",
        "print(obj2.loc[[\"b\", \"a\", \"c\"]])\n",
        "#print(obj2.loc[[0, 1, 2]]) # error, not all indexes have matching labels\n",
        "print(obj1.loc[[0, 1, 2]])\n",
        "\n",
        "# Use iloc for indexing with integers\n",
        "print(obj1.iloc[[0, 1, 2]])\n",
        "print(obj2.iloc[[0, 1, 2]]) # iloc always work with integer indexing\n",
        "\n",
        "# Slicing inclusive of endpoint\n",
        "print(obj2.loc[\"b\":\"c\"]) # \"c\" label included for selection\n",
        "obj2.loc[\"b\":\"c\"] = 99 # modify values using label slicing\n",
        "print(obj2)"
      ],
      "id": "6500ae7b",
      "execution_count": null,
      "outputs": []
    },
    {
      "cell_type": "markdown",
      "metadata": {},
      "source": [
        "###### Indexing into a DataFrame retriving one or more columns with single value or sequence\n"
      ],
      "id": "92d50ce3"
    },
    {
      "cell_type": "code",
      "metadata": {},
      "source": [
        "import pandas as pd\n",
        "import numpy as np\n",
        "\n",
        "# Create some state index and columns with random integer value, 4x4\n",
        "data = pd.DataFrame(np.arange(16).reshape(4, 4), \n",
        "                    index=[\"Ohio\", \"Colorado\", \"Utah\", \"New York\"],\n",
        "                    columns=[\"one\", \"two\", \"three\", \"four\"]\n",
        ")\n",
        "print(data)\n",
        "print(data.index)\n",
        "print(data.columns)\n",
        "\n",
        "# Select with a single or sequence\n",
        "print(data[\"one\"]) # single column \"one\"\n",
        "print(data[[\"three\", \"two\"]]) # multiple columns - three, \n",
        "\n",
        "# Select with slicing\n",
        "print(data[:2])  # select row index at 0, 1\n",
        "\n",
        "# Select / assign using Boolean array\n",
        "cond = data[\"three\"] > 5\n",
        "print(\"cond:\\n\", cond, type(cond)) # return a Series\n",
        "print(data[cond])\n",
        "cond = data < 5\n",
        "print(\"cond\\n\", cond, type(cond)) # return a DF\n",
        "print(data[cond])"
      ],
      "id": "c5bf153d",
      "execution_count": null,
      "outputs": []
    },
    {
      "cell_type": "markdown",
      "metadata": {},
      "source": [
        "###### Selection on DataFrame with `loc` and `iloc`\n"
      ],
      "id": "95a4081e"
    },
    {
      "cell_type": "code",
      "metadata": {},
      "source": [
        "print(data)\n",
        "\n",
        "# loc with labels\n",
        "print(data.loc[\"Colorado\"]) # Series\n",
        "print(data.loc[[\"Colorado\", \"New York\"]]) # DF\n",
        "sel = data.loc[\"Colorado\", [\"two\", \"three\"]] # Series\n",
        "print(sel)\n",
        "print(type(sel))\n",
        "\n",
        "# iloc with integers\n",
        "print(data.iloc[2]) # Series\n",
        "print(data.iloc[[2, 1]]) # two rows, DF\n",
        "print(data.iloc[2, [2, 1]]) # row + columns, Series\n",
        "print(data.iloc[[1, 2], [3, 0, 1]]) # rows + columns, DF\n",
        "\n",
        "# Slicing\n",
        "print(data.loc[:\"Utah\", \"two\"]) # slicing using row and colum labels at once\n",
        "print(data.iloc[:, :3][data.three >= 2])"
      ],
      "id": "b40aec81",
      "execution_count": null,
      "outputs": []
    },
    {
      "cell_type": "markdown",
      "metadata": {},
      "source": [
        "###### Arithmetic and Data Alignment with Series and DataFrame\n"
      ],
      "id": "7587ba61"
    },
    {
      "cell_type": "code",
      "metadata": {},
      "source": [
        "import pandas as pd\n",
        "import numpy as np\n",
        "\n",
        "# Create two Serieses with different number of data and labels\n",
        "s1 = pd.Series([7.3, -2.5, 3.4, 1.5], index=[\"a\", \"c\", \"d\", \"e\"])\n",
        "s2 = pd.Series([-2.1, 3.6, -1.5, 4, 3.1], index=[\"a\", \"c\", \"e\", \"f\", \"g\"])\n",
        "print(\"s1: \", s1)\n",
        "print(\"s2: \", s2)\n",
        "\n",
        "# s1 + s2, result with the union of the index pairs and data alignment\n",
        "print(s1 + s2)\n",
        "\n",
        "# Create two DataFrames - 3x3 / 4x3\n",
        "df1 = pd.DataFrame(np.arange(9.).reshape((3, 3)), columns=list(\"bcd\"), index=[\"Ohio\", \"Texas\", \"Colorado\"])\n",
        "df2 = pd.DataFrame(np.arange(12.).reshape((4, 3)), columns=list(\"bde\"), index=[\"Utah\", \"Ohio\", \"Texas\", \"Oregon\"])\n",
        "print(df1)\n",
        "print(df2)\n",
        "\n",
        "# df1 + df2 , Union of index pairs and data alignment\n",
        "print(df1+df2)\n",
        "\n",
        "# Case of DataFrames with no rows or columns in common\n",
        "df1 = pd.DataFrame({\"A\": [1, 2]})\n",
        "df2 = pd.DataFrame({\"B\": [3, 4]})\n",
        "print(df1)\n",
        "print(df2)\n",
        "print(df1+df2)\n",
        "\n",
        "# Practice to fill missing value(NaN, null) with sepcific value during arithmetic operations\n",
        "\n",
        "# Create DataFrames with different shapes, with data not in common and null\n",
        "df1 = pd.DataFrame(np.arange(12.).reshape((3, 4)), columns=list(\"abcd\"))\n",
        "df2 = pd.DataFrame(np.arange(20.).reshape((4, 5)), columns=list(\"abcde\"))\n",
        "\n",
        "# Set null for the value at 1, \"b\" in df2\n",
        "df2.loc[1, \"b\"] = np.nan\n",
        "\n",
        "print(\"df1:\\n\", df1)\n",
        "print(\"df2:\\n\", df2)\n",
        "\n",
        "# addtion and missing values\n",
        "print(\"df1+df2:\\n\", df1 + df2)\n",
        "\n",
        "# add() method and fill_value argument to substitute missing values during arithmetic operations.\n",
        "print(df1.add(df2, fill_value=0))"
      ],
      "id": "6098615e",
      "execution_count": null,
      "outputs": []
    },
    {
      "cell_type": "markdown",
      "metadata": {},
      "source": [
        "###### Series and DataFrame method for [arithmetic]{.underline}\n"
      ],
      "id": "4f3fec20"
    },
    {
      "cell_type": "code",
      "metadata": {},
      "source": [
        "print(df1)\n",
        "print(1 / df1) # division\n",
        "print(df1.rdiv(1)) # same as above"
      ],
      "id": "a2410aa1",
      "execution_count": null,
      "outputs": []
    },
    {
      "cell_type": "markdown",
      "metadata": {},
      "source": [
        "##### Question: Change column labels of df1 with df2, and fill null values with 0.\n"
      ],
      "id": "e53a221a"
    },
    {
      "cell_type": "code",
      "metadata": {},
      "source": [
        "print(df1)\n",
        "print(df2)\n",
        "# reindexing the columns with df2, filling 0 for not-in-commons\n",
        "df1.reindex(columns=df2.columns, fill_value=0)"
      ],
      "id": "f86bdfd6",
      "execution_count": null,
      "outputs": []
    },
    {
      "cell_type": "markdown",
      "metadata": {},
      "source": [
        "##### Operations between DataFrame and Series - Broadcasting\n"
      ],
      "id": "a64c008d"
    },
    {
      "cell_type": "code",
      "metadata": {},
      "source": [
        "import pandas as pd\n",
        "import numpy as np\n",
        "\n",
        "# Operation between N-d array and 1-d array\n",
        "\n",
        "# Create an 3x4 array\n",
        "arr = np.arange(12.).reshape((3,4))\n",
        "print(arr, type(arr))\n",
        "print(arr[0], type(arr[0])) # 1-d array\n",
        "\n",
        "# N-d operator 1-d = broadcasting to each row of N-d\n",
        "print(arr - arr[0])\n",
        "\n",
        "# Operation between DataFrame and Series, similar\n",
        "\n",
        "# Create a 4x3 DataFrame\n",
        "frame = pd.DataFrame(np.arange(12.).reshape((4, 3)),\n",
        "                     columns=list(\"bde\"),\n",
        "                     index=[\"Utah\", \"Ohio\", \"Texas\", \"Oregon\"])\n",
        "print(\"frame:\\n\", frame, type(frame))\n",
        "series = frame.iloc[0] # first row\n",
        "print(\"series:\\n\", series, type(series))\n",
        "# frame - series\n",
        "print(\"frame-series:\\n\", frame-series) # both with matching indexes\n",
        "\n",
        "# Create another Series without matching indexes\n",
        "series2 = pd.Series(np.arange(3), index=list(\"bef\"))\n",
        "print(series2)\n",
        "# frame - series2\n",
        "print(\"frame-serires2:\\n\", frame-series2) # result reindexed to form the union, and do operations for the matching indexes"
      ],
      "id": "0967ec60",
      "execution_count": null,
      "outputs": []
    },
    {
      "cell_type": "code",
      "metadata": {},
      "source": [
        "# broadcast over columns\n",
        "series3 = frame[\"d\"]\n",
        "print(frame)\n",
        "print(series3)\n",
        "frame.sub(series3, axis=\"index\") # over columns"
      ],
      "id": "85631cfb",
      "execution_count": null,
      "outputs": []
    },
    {
      "cell_type": "markdown",
      "metadata": {},
      "source": [
        "#### Function Application and Mapping\n",
        "\n",
        "Numpy ufuncs(element-wise array methods) also work with pandas objects\n"
      ],
      "id": "9404e844"
    },
    {
      "cell_type": "code",
      "metadata": {},
      "source": [
        "import pandas as pd\n",
        "import numpy as np\n",
        "\n",
        "# Create a 4x3 random standard normal DataFrame\n",
        "frame = pd.DataFrame(np.random.standard_normal((4,3)), columns=list(\"bed\"), index=[\"Utah\", \"Ohio\", \"Texas\", \"Oregon\"])\n",
        "print(frame,\"\\n\"+\"-\"*40)\n",
        "print(np.abs(frame,),\"\\n\"+\"-\"*40)"
      ],
      "id": "e0bd0e77",
      "execution_count": null,
      "outputs": []
    },
    {
      "cell_type": "code",
      "metadata": {},
      "source": [
        "# apply() to apply a function to each column / row\n",
        "\n",
        "# Function to max - min of Series\n",
        "def f1(x):\n",
        "  return x.max() - x.min()\n",
        "\n",
        "\n",
        "frame.apply(f1) # apply f1 function to each column of DF\n",
        "print(\"-\"*40)\n",
        "frame.apply(f1,  axis=\"columns\") # apply f1 function to each row - across the columns\n"
      ],
      "id": "14160366",
      "execution_count": null,
      "outputs": []
    }
  ],
  "metadata": {
    "kernelspec": {
      "name": "python3",
      "language": "python",
      "display_name": "Python 3 (ipykernel)"
    }
  },
  "nbformat": 4,
  "nbformat_minor": 5
}